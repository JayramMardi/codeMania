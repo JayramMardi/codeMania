{
 "cells": [
  {
   "cell_type": "markdown",
   "metadata": {},
   "source": []
  },
  {
   "cell_type": "markdown",
   "metadata": {},
   "source": []
  },
  {
   "cell_type": "markdown",
   "metadata": {},
   "source": [
    "# conditional expression\r\n"
   ]
  },
  {
   "cell_type": "code",
   "execution_count": 1,
   "metadata": {},
   "outputs": [
    {
     "name": "stdout",
     "output_type": "stream",
     "text": [
      "Greator\n"
     ]
    }
   ],
   "source": [
    "a=33\r\n",
    "\r\n",
    "if a>9:\r\n",
    "    print(\"Greator\")\r\n",
    "else:\r\n",
    "    print(\"lessor\")"
   ]
  },
  {
   "cell_type": "markdown",
   "metadata": {},
   "source": [
    "# QUICK QUIZ"
   ]
  },
  {
   "cell_type": "code",
   "execution_count": 4,
   "metadata": {},
   "outputs": [
    {
     "name": "stdout",
     "output_type": "stream",
     "text": [
      "yes\n"
     ]
    }
   ],
   "source": [
    "a= int(input(\"enter the age:  \"))\r\n",
    "\r\n",
    "if a==18:\r\n",
    "    print(\"yes\")  \r\n",
    "else:  \r\n",
    "    print(\"no\")    "
   ]
  },
  {
   "cell_type": "markdown",
   "metadata": {},
   "source": [
    "# relation operators:\r\n",
    "  1. single \"=\" means assignment to a given variable.\r\n",
    "  2. double \"=\" means camparision to a number are equal to a variable or not."
   ]
  },
  {
   "cell_type": "code",
   "execution_count": 5,
   "metadata": {},
   "outputs": [
    {
     "name": "stdout",
     "output_type": "stream",
     "text": [
      "you can not work with us\n"
     ]
    }
   ],
   "source": [
    "age=45\r\n",
    "\r\n",
    "if(age>34 and age>56):   \r\n",
    "    print(\"you can work with us\")\r\n",
    "\r\n",
    "else:  \r\n",
    "    print(\"you can not work with us\") "
   ]
  },
  {
   "cell_type": "code",
   "execution_count": 15,
   "metadata": {},
   "outputs": [
    {
     "name": "stdout",
     "output_type": "stream",
     "text": [
      "10\n",
      "not less than 10 character\n"
     ]
    }
   ],
   "source": [
    "# username \r\n",
    "\r\n",
    "username = \"usernameed\"\r\n",
    "print(len(username))\r\n",
    "\r\n",
    "if (len(username)<10):                   \r\n",
    "    print(\"less than 10 characters\")   \r\n",
    "\r\n",
    "else:  \r\n",
    "    print(\"not less than 10 character\")     "
   ]
  },
  {
   "cell_type": "code",
   "execution_count": 23,
   "metadata": {},
   "outputs": [
    {
     "name": "stdout",
     "output_type": "stream",
     "text": [
      "EXELLENT GRADES\n"
     ]
    }
   ],
   "source": [
    "student1 = int(input(\"enter the student1 marks\"))\r\n",
    "student2 = int(input(\"enter the student2 marks\"))\r\n",
    "student3 = int(input(\"enter the student3 marks\"))\r\n",
    "\r\n",
    "grades=[\"student1\", \"student2\", \"student3\"]\r\n",
    "\r\n",
    "grad={\r\n",
    "    \"90-100\":\"exllent\",\r\n",
    "    \"80-90\":\"A\",\r\n",
    "    \"70-80\":\"b\",\r\n",
    "    \"60-70\":\"c\",\r\n",
    "    \"50-60\":\"d\",\r\n",
    "    \">50\":\"e\", \r\n",
    "}\r\n",
    "\r\n",
    "if  90- 100  in student1:  \r\n",
    "    print('execlent')\r\n",
    "    "
   ]
  }
 ],
 "metadata": {
  "interpreter": {
   "hash": "d21333ff62c43b8d3f22f2fffa3b7389f580599dfc1ab4fc74fc1532be50abca"
  },
  "kernelspec": {
   "display_name": "Python 3.9.5 64-bit ('Python39')",
   "name": "python3"
  },
  "language_info": {
   "codemirror_mode": {
    "name": "ipython",
    "version": 3
   },
   "file_extension": ".py",
   "mimetype": "text/x-python",
   "name": "python",
   "nbconvert_exporter": "python",
   "pygments_lexer": "ipython3",
   "version": "3.9.5"
  },
  "orig_nbformat": 4
 },
 "nbformat": 4,
 "nbformat_minor": 2
}