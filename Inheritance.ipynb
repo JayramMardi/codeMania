{
 "cells": [
  {
   "cell_type": "markdown",
   "source": [
    "# Inheritance \r\n",
    " 1. The inheritance is a derived  class of the parent class. This can be override the parent class's' object attribute to the new derived class.\r\n",
    "\r\n",
    " 2. Types of inheritance\r\n",
    "    1. single inheritance\r\n",
    "    2. multiple inheritance\r\n",
    "    3. multilevel inheritance"
   ],
   "metadata": {}
  },
  {
   "cell_type": "code",
   "execution_count": 16,
   "source": [
    "class PRODUCT():\r\n",
    "    component=\"Product\"\r\n",
    "\r\n",
    "    def initialize(self):\r\n",
    "        print(f\"the component sixe  is {self.component}\")\r\n",
    "    \r\n",
    "class PRODUCT_index(PRODUCT):   \r\n",
    "    component=\"HACKER$ print  slcass\"\r\n",
    "    \r\n",
    "    def initialize(self):\r\n",
    "        # print(f\"the component is {self.component}\")\r\n",
    "        pass\r\n",
    "\r\n",
    "p=PRODUCT_index()\r\n",
    "p.initialize()"
   ],
   "outputs": [],
   "metadata": {}
  },
  {
   "cell_type": "code",
   "execution_count": 5,
   "source": [
    "# MULTIPLE INHERITANCE\r\n",
    "\r\n",
    "class P(): \r\n",
    "    Company=\"VIsa\"\r\n",
    "\r\n",
    "class Freelance(): \r\n",
    "    company=\"FIVERR\"\r\n",
    "    level=0\r\n",
    "\r\n",
    "    def Upgradelevel(self):\r\n",
    "        self.level = self.level\r\n",
    "        self.level = self.level + 1\r\n",
    "\r\n",
    "class Proggrammers(P,Freelance): # prority IN THIS CASE goes to P and then freelance.\r\n",
    "\r\n",
    "    levle=0\r\n",
    "    \r\n",
    "p=Proggrammers()\r\n",
    "p.Upgradelevel()\r\n",
    "p.Upgradelevel()\r\n",
    "print(p.level)"
   ],
   "outputs": [
    {
     "output_type": "stream",
     "name": "stdout",
     "text": [
      "2\n"
     ]
    }
   ],
   "metadata": {}
  }
 ],
 "metadata": {
  "orig_nbformat": 4,
  "language_info": {
   "name": "python",
   "version": "3.9.5",
   "mimetype": "text/x-python",
   "codemirror_mode": {
    "name": "ipython",
    "version": 3
   },
   "pygments_lexer": "ipython3",
   "nbconvert_exporter": "python",
   "file_extension": ".py"
  },
  "kernelspec": {
   "name": "python3",
   "display_name": "Python 3.9.5 64-bit"
  },
  "interpreter": {
   "hash": "d21333ff62c43b8d3f22f2fffa3b7389f580599dfc1ab4fc74fc1532be50abca"
  }
 },
 "nbformat": 4,
 "nbformat_minor": 2
}