{
 "cells": [
  {
   "cell_type": "markdown",
   "source": [
    "# OBJECT ORIENTED PROGRAMMING "
   ],
   "metadata": {}
  },
  {
   "cell_type": "code",
   "execution_count": 1,
   "source": [
    "class Employee():\r\n",
    "\r\n",
    "    # THIS ARE THE ATTRIBUTE OF CLASSES: \r\n",
    "    gmail=\"http://www.gmail.com\"\r\n",
    "\r\n",
    "#  THIS ARE OBJECT ATTRIBUTE\r\n",
    "remote=Employee()\r\n",
    "refree=Employee()\r\n",
    "\r\n",
    "print(remote.gmail)\r\n",
    "print(refree.gmail)\r\n",
    "\r\n",
    "# UPDATE THE GMAIL SITE BY THIS METHOD\r\n",
    "\r\n",
    "Employee.gmail =\"http://www.remotelink.com\"\r\n",
    "print(remote.gmail)"
   ],
   "outputs": [
    {
     "output_type": "stream",
     "name": "stdout",
     "text": [
      "http://www.gmail.com\n",
      "http://www.gmail.com\n",
      "http://www.remotelink.com\n"
     ]
    }
   ],
   "metadata": {}
  },
  {
   "cell_type": "code",
   "execution_count": 16,
   "source": [
    "# 8.46.00 remote link code(remember)\r\n",
    "class Employee():   \r\n",
    "    salary=344444444\r\n",
    "\r\n",
    "harry=Employee()\r\n",
    "jayram=Employee()\r\n",
    "\r\n",
    "harry.salary=23243\r\n",
    "jayram.salary=3433434\r\n",
    "\r\n",
    "print(jayram.salary)\r\n",
    "print(harry.salary)\r\n",
    "\r\n",
    "# IT choose object instantanius attributes rather than  class attributes.\r\n",
    "#  principal = 1. IT check  the object attributes. \r\n",
    "#              2. IT check the class attributes.\r\n",
    "\r\n"
   ],
   "outputs": [
    {
     "output_type": "stream",
     "name": "stdout",
     "text": [
      "3433434\n",
      "23243\n"
     ]
    }
   ],
   "metadata": {}
  },
  {
   "cell_type": "code",
   "execution_count": 19,
   "source": [
    "# PRACTICE set\r\n",
    "\r\n",
    "class Proggrammer():       \r\n",
    "    youtuebe=\"Microsoft\"\r\n",
    "\r\n",
    "    def __init__(self,name,product,company):   \r\n",
    "        self.name = name\r\n",
    "        self.product = product\r\n",
    "        self.company = company\r\n",
    "    \r\n",
    "    def getINfo(self):  \r\n",
    "        print(f\"the named is {self.name}  and the company i worked is {self.company}\")\r\n",
    "\r\n",
    "jay=Proggrammer(\"jay\",\"skype\",\"twitter\") \r\n",
    "antman=Proggrammer(\"antman\",\"Microsoft office365\",\"Microsoft\")\r\n",
    "jay.getINfo()\r\n",
    "antman.getINfo()"
   ],
   "outputs": [
    {
     "output_type": "stream",
     "name": "stdout",
     "text": [
      "the named is jay  and the company i worked is twitter\n",
      "the named is antman  and the company i worked is Microsoft\n"
     ]
    }
   ],
   "metadata": {}
  },
  {
   "cell_type": "code",
   "execution_count": 47,
   "source": [
    "class Calculator():  \r\n",
    "\r\n",
    "    def __init__(self,number):   \r\n",
    "        self.number = number\r\n",
    "        \r\n",
    "        \r\n",
    "    def cubes(self):  \r\n",
    "        print(f\"the cubes of {self.number} multiplication is {self.number**3}\")\r\n",
    "    \r\n",
    "    def square(self):  \r\n",
    "        print(f\"the  square of {self.number}  multiplication is {self.number**2} \")\r\n",
    "    def sqaureRoot(self): \r\n",
    "        print(f\"the squareroot of {self.number} multiplication is {self.number**0.5}\")\r\n",
    "\r\n",
    "    \r\n",
    "sqaure=Calculator(int(input()))\r\n",
    "cubes=Calculator(int(input()))\r\n",
    "sqaureroots=Calculator(int(input()))\r\n",
    "\r\n",
    "# sqaure.sqaure()\r\n",
    "\r\n",
    "sqaure.square()\r\n",
    "cubes.cubes()\r\n",
    "sqaure.sqaureRoot()"
   ],
   "outputs": [
    {
     "output_type": "stream",
     "name": "stdout",
     "text": [
      "the  square of 1225  multiplication is 1500625 \n",
      "the cubes of 1225 multiplication is 1838265625\n",
      "the squareroot of 1225 multiplication is 612.5\n"
     ]
    }
   ],
   "metadata": {}
  },
  {
   "cell_type": "code",
   "execution_count": 5,
   "source": [
    "# 9:30:39  -->\r\n",
    "\r\n",
    "class HImross(): \r\n",
    "    a=\"farry\"\r\n",
    "\r\n",
    "obj=HImross()\r\n",
    "obj.a=\"dkdd\"\r\n",
    "HImross.a=\"dkjdskd\"\r\n",
    "\r\n",
    "print(obj.a)\r\n",
    "print(HImross.a)\r\n",
    "\r\n"
   ],
   "outputs": [
    {
     "output_type": "stream",
     "name": "stdout",
     "text": [
      "dkdd\n",
      "dkjdskd\n"
     ]
    }
   ],
   "metadata": {}
  },
  {
   "cell_type": "code",
   "execution_count": null,
   "source": [],
   "outputs": [],
   "metadata": {}
  }
 ],
 "metadata": {
  "interpreter": {
   "hash": "d21333ff62c43b8d3f22f2fffa3b7389f580599dfc1ab4fc74fc1532be50abca"
  },
  "kernelspec": {
   "name": "python3",
   "display_name": "Python 3.9.5 64-bit"
  },
  "language_info": {
   "codemirror_mode": {
    "name": "ipython",
    "version": 3
   },
   "file_extension": ".py",
   "mimetype": "text/x-python",
   "name": "python",
   "nbconvert_exporter": "python",
   "pygments_lexer": "ipython3",
   "version": "3.9.5"
  },
  "orig_nbformat": 4
 },
 "nbformat": 4,
 "nbformat_minor": 2
}