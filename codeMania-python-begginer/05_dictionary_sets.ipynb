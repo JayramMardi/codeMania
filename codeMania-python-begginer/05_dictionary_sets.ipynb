{
 "cells": [
  {
   "cell_type": "markdown",
   "metadata": {},
   "source": [
    "# DICTIONARY AND SETS\r\n",
    "  dictionary is a collection of key/value pairs"
   ]
  },
  {
   "cell_type": "markdown",
   "metadata": {},
   "source": [
    "# syntax\r\n",
    "# 1. code={\"key\": \"value\",\"harry\" : \"a boy\"}\r\n",
    "# 2. prints dict syntax like this code[\"key\"] or print(code[\"key\"])"
   ]
  },
  {
   "cell_type": "code",
   "execution_count": 7,
   "metadata": {},
   "outputs": [
    {
     "name": "stdout",
     "output_type": "stream",
     "text": [
      "skdjkjdsdf\n"
     ]
    }
   ],
   "source": [
    "a={\"a\":\"ajdd\",\"dsd\":\"dsdsk\",\"anotherdict\": {\"value\":\"skdjkjdsdf\"} }\r\n",
    "\r\n",
    "\r\n",
    "print(a[\"anotherdict\"][\"value\"])# you can put dictionary in dictionary.and print like this and this is called nested dictionary.  "
   ]
  },
  {
   "cell_type": "code",
   "execution_count": 2,
   "metadata": {},
   "outputs": [
    {
     "name": "stdout",
     "output_type": "stream",
     "text": [
      "value\n",
      "[1, 3, 5, 6, 7, 8, 9]\n"
     ]
    }
   ],
   "source": [
    "# you can create list key pair value in the dictionary.\r\n",
    "mydic={\"key\":\"value\",\r\n",
    "       \"marks\":[1,3,5,6,7,8,9]}\r\n",
    "print(mydic[\"key\"])\r\n",
    "print(mydic[\"marks\"])"
   ]
  },
  {
   "cell_type": "markdown",
   "metadata": {},
   "source": [
    "# 1. you can add list in the dictionary.\r\n",
    "# 2. you can add dictionary in  the dictionary and access the sub dictionary key pairs."
   ]
  },
  {
   "cell_type": "code",
   "execution_count": 3,
   "metadata": {},
   "outputs": [
    {
     "data": {
      "text/plain": [
       "'portal'"
      ]
     },
     "execution_count": 3,
     "metadata": {},
     "output_type": "execute_result"
    }
   ],
   "source": [
    "a={\"harry\":\"portal\"}\r\n",
    "a[\"harry\"]"
   ]
  },
  {
   "cell_type": "markdown",
   "metadata": {},
   "source": [
    "# properties of dictionary\r\n",
    "# 1. dictionary are unordered.\r\n",
    "# 2. dictionary are mutable/change.\r\n",
    "# 3. dictionary it is indexed. \r\n",
    "# 4. dictionary. it is can't contain duplicate keys."
   ]
  },
  {
   "cell_type": "markdown",
   "metadata": {},
   "source": [
    "# DICTIONARY METHODS\r\n"
   ]
  },
  {
   "cell_type": "code",
   "execution_count": 1,
   "metadata": {},
   "outputs": [
    {
     "name": "stdout",
     "output_type": "stream",
     "text": [
      "dict_keys(['key', 'marks'])\n",
      "dict_values(['value', [1, 3, 5, 6, 7, 8, 9]])\n",
      "['value', [1, 3, 5, 6, 7, 8, 9]]\n",
      "dict_items([('key', 'value'), ('marks', [1, 3, 5, 6, 7, 8, 9])])\n",
      "{'key': 'value', 'marks': [1, 3, 5, 6, 7, 8, 9]}\n",
      "{'key': 'value', 'marks': [1, 3, 5, 6, 7, 8, 9], 'my': 'hello'}\n",
      "None\n"
     ]
    },
    {
     "ename": "KeyError",
     "evalue": "'harry2'",
     "output_type": "error",
     "traceback": [
      "\u001b[1;31m---------------------------------------------------------------------------\u001b[0m",
      "\u001b[1;31mKeyError\u001b[0m                                  Traceback (most recent call last)",
      "\u001b[1;32m<ipython-input-1-dc4a4d391b09>\u001b[0m in \u001b[0;36m<module>\u001b[1;34m\u001b[0m\n\u001b[0;32m     25\u001b[0m \u001b[1;31m# return the none in the dictionary\u001b[0m\u001b[1;33m\u001b[0m\u001b[1;33m\u001b[0m\u001b[1;33m\u001b[0m\u001b[0m\n\u001b[0;32m     26\u001b[0m \u001b[0mprint\u001b[0m\u001b[1;33m(\u001b[0m\u001b[0mmydic\u001b[0m\u001b[1;33m.\u001b[0m\u001b[0mget\u001b[0m\u001b[1;33m(\u001b[0m\u001b[1;34m\"harry2\"\u001b[0m\u001b[1;33m)\u001b[0m\u001b[1;33m)\u001b[0m\u001b[1;33m\u001b[0m\u001b[1;33m\u001b[0m\u001b[0m\n\u001b[1;32m---> 27\u001b[1;33m \u001b[0mprint\u001b[0m\u001b[1;33m(\u001b[0m\u001b[0mmydic\u001b[0m\u001b[1;33m[\u001b[0m\u001b[1;34m\"harry2\"\u001b[0m\u001b[1;33m]\u001b[0m\u001b[1;33m)\u001b[0m\u001b[1;33m\u001b[0m\u001b[1;33m\u001b[0m\u001b[0m\n\u001b[0m",
      "\u001b[1;31mKeyError\u001b[0m: 'harry2'"
     ]
    }
   ],
   "source": [
    "mydic={\"key\":\"value\",\r\n",
    "       \"marks\":[1,3,5,6,7,8,9]}\r\n",
    "\r\n",
    "# print the keys of the dictionary.  \r\n",
    "print(mydic.keys())\r\n",
    "\r\n",
    "# print the values of the dictionarypygame.examples.mask.main()\r\n",
    "print(mydic.values())\r\n",
    "\r\n",
    "# you can typecasting with the dictionary key value pair like below this code.   \r\n",
    "print(list(mydic.values()))\r\n",
    "\r\n",
    "#  print the (*key, value ) of all content of the dictionary. it returns a tuple.\r\n",
    "print(mydic.items())\r\n",
    "\r\n",
    "# print the updated item in the dictionary. it update the dictionary with the new items.\r\n",
    "\r\n",
    "print(mydic)\r\n",
    "ls={\"my\":\"hello\"}\r\n",
    "mydic.update(ls)\r\n",
    "print(mydic)\r\n",
    "\r\n",
    "# print mydic.get(\"harry2\") return none if the keys are not present in the dictionary but if you print mydic[\"harry2\"] throws an error cause is your responsibility to if keys are present or not.\r\n",
    "\r\n",
    "# return the none in the dictionary\r\n",
    "print(mydic.get(\"harry2\"))\r\n",
    "print(mydic[\"harry2\"])\r\n"
   ]
  },
  {
   "cell_type": "markdown",
   "metadata": {},
   "source": [
    "# NOTE \r\n",
    "  # if you write  the same key in the dictionary, you will find the pairs of the last key selected and overide the first key."
   ]
  },
  {
   "cell_type": "markdown",
   "metadata": {},
   "source": [
    "# chapter SETS\r\n"
   ]
  },
  {
   "cell_type": "code",
   "execution_count": 3,
   "metadata": {},
   "outputs": [
    {
     "name": "stdout",
     "output_type": "stream",
     "text": [
      "2\n",
      "<class 'set'>\n"
     ]
    }
   ],
   "source": [
    "s=set()\r\n",
    "\r\n",
    "s.add(20)\r\n",
    "s.add(\"20\")\r\n",
    "s.add(20.0)\r\n",
    "print(len(s))\r\n",
    "print(type(s))"
   ]
  },
  {
   "cell_type": "code",
   "execution_count": 4,
   "metadata": {},
   "outputs": [
    {
     "name": "stdout",
     "output_type": "stream",
     "text": [
      "<class 'dict'>\n"
     ]
    }
   ],
   "source": [
    "s={}\r\n",
    "\r\n",
    "print(type(s))\r\n",
    "# dictionary\r\n"
   ]
  }
 ],
 "metadata": {
  "interpreter": {
   "hash": "3bef613022b3a85331ae776a293266076a1a7d2d268a33dc4a43e5f1f58a1186"
  },
  "kernelspec": {
   "display_name": "Python 3.9.5 64-bit",
   "name": "python3"
  },
  "language_info": {
   "name": "python",
   "version": ""
  },
  "orig_nbformat": 4
 },
 "nbformat": 4,
 "nbformat_minor": 2
}