{
 "cells": [
  {
   "cell_type": "markdown",
   "metadata": {},
   "source": [
    "# what is strings ?\r\n",
    "\r\n",
    "string is data type in python string/\r\n",
    "string is a sequence of characters enclosed in quotes ."
   ]
  },
  {
   "cell_type": "markdown",
   "metadata": {},
   "source": [
    "# how many types of ways to write a string syntax.\r\n",
    "\r\n",
    "primarily there are three several to write a correct syntax for string data type in python.\r\n",
    "\r\n"
   ]
  },
  {
   "cell_type": "code",
   "execution_count": 13,
   "metadata": {},
   "outputs": [
    {
     "name": "stdout",
     "output_type": "stream",
     "text": [
      "harry\n"
     ]
    }
   ],
   "source": [
    "# for single quoted\r\n",
    "p = 'harry'\r\n",
    "print(p)"
   ]
  },
  {
   "cell_type": "code",
   "execution_count": 14,
   "metadata": {},
   "outputs": [
    {
     "name": "stdout",
     "output_type": "stream",
     "text": [
      "harry\n"
     ]
    }
   ],
   "source": [
    "# for doble quoted \r\n",
    "p=\"harry\"\r\n",
    "print(p)\r\n"
   ]
  },
  {
   "cell_type": "code",
   "execution_count": 15,
   "metadata": {},
   "outputs": [
    {
     "name": "stdout",
     "output_type": "stream",
     "text": [
      "harry\n"
     ]
    }
   ],
   "source": [
    "#  for tripple quoted(for mulitiline string text )\r\n",
    "p='''harry'''\r\n",
    "print(p)\r\n"
   ]
  },
  {
   "cell_type": "markdown",
   "metadata": {},
   "source": [
    "# how to write a correct syntax for string literals\r\n",
    "\r\n",
    "if you write like :\r\n",
    "a=\"harry's\"\r\n",
    "you  get zero error because  python scanning the starting and end line of the quotes.(use this for if you having   single quotes if  you write an  string text)\r\n",
    "\r\n",
    "NOTE: same quote must be used to write a string literal."
   ]
  },
  {
   "cell_type": "markdown",
   "metadata": {},
   "source": [
    "# Can you print the spaces if your string literal text ."
   ]
  },
  {
   "cell_type": "code",
   "execution_count": 16,
   "metadata": {},
   "outputs": [
    {
     "name": "stdout",
     "output_type": "stream",
     "text": [
      "kkl\n",
      "        kk\"sskjd\"\n"
     ]
    }
   ],
   "source": [
    "# yes you can add whitespace in your string literal(only for multiline string syntax)\r\n",
    "h='''kkl\r\n",
    "        kk\"sskjd\"'''\r\n",
    "print(h)"
   ]
  },
  {
   "cell_type": "markdown",
   "metadata": {},
   "source": [
    "#  relation of type funtion and strings\r\n"
   ]
  },
  {
   "cell_type": "code",
   "execution_count": 17,
   "metadata": {},
   "outputs": [
    {
     "name": "stdout",
     "output_type": "stream",
     "text": [
      "<class 'str'>\n"
     ]
    }
   ],
   "source": [
    "#  you can check the data type by using type function\r\n",
    "p=\"djjd\"\r\n",
    "print(type(p))\r\n",
    "  "
   ]
  },
  {
   "cell_type": "markdown",
   "metadata": {},
   "source": [
    "# how to add/concatening two string literal?\r\n"
   ]
  },
  {
   "cell_type": "code",
   "execution_count": 19,
   "metadata": {},
   "outputs": [
    {
     "name": "stdout",
     "output_type": "stream",
     "text": [
      " hello MR j\n"
     ]
    }
   ],
   "source": [
    "greeting=\" hello MR \"\r\n",
    "name=\"j\"\r\n",
    "print(greeting + name )\r\n",
    "\r\n"
   ]
  },
  {
   "cell_type": "markdown",
   "metadata": {},
   "source": [
    "# Acess string character using index range in string literal.\r\n"
   ]
  },
  {
   "cell_type": "code",
   "execution_count": 23,
   "metadata": {},
   "outputs": [
    {
     "name": "stdout",
     "output_type": "stream",
     "text": [
      "j\n"
     ]
    }
   ],
   "source": [
    "f=\"jayram\"\r\n",
    "print(f[0]) # string index started from 0 to something numeric value. "
   ]
  },
  {
   "cell_type": "markdown",
   "metadata": {},
   "source": [
    "# note you can not assign item  in string literal varible . example below code"
   ]
  },
  {
   "cell_type": "code",
   "execution_count": 25,
   "metadata": {},
   "outputs": [
    {
     "ename": "SyntaxError",
     "evalue": "cannot assign to function call (<ipython-input-25-68bf9c713e51>, line 2)",
     "output_type": "error",
     "traceback": [
      "\u001b[1;36m  File \u001b[1;32m\"<ipython-input-25-68bf9c713e51>\"\u001b[1;36m, line \u001b[1;32m2\u001b[0m\n\u001b[1;33m    j([3])=\"s\"\u001b[0m\n\u001b[1;37m    ^\u001b[0m\n\u001b[1;31mSyntaxError\u001b[0m\u001b[1;31m:\u001b[0m cannot assign to function call\n"
     ]
    }
   ],
   "source": [
    "j=\"harry\"\r\n",
    "j([3])=\"s\" # note : you can acess string character but cannot assign to string  literal. \r\n",
    "print(j)"
   ]
  },
  {
   "cell_type": "markdown",
   "metadata": {},
   "source": [
    "# what is slicing and relation between string and slicing?\r\n",
    "\r\n",
    "slicing is a method to acess a string literal text under a given slicing funtion limit given by a user. lets code\r\n"
   ]
  },
  {
   "cell_type": "code",
   "execution_count": 30,
   "metadata": {},
   "outputs": [],
   "source": [
    "# let take a h varible string\r\n",
    "\r\n",
    "h=\"harry\"\r\n",
    "\r\n",
    "# print(h[0:3]) # here you can see that total 4 character in string  item in \"h\" but\r\n",
    "# it give  0 to 2 index range of the given output and neglecting  the 3 index  character. it exclued the last index of the given index by the user. \r\n",
    "\r\n",
    "# note : starting index never excluded , just  the last index range of index exluded. lets just see the code  what does it mean."
   ]
  },
  {
   "cell_type": "code",
   "execution_count": 34,
   "metadata": {},
   "outputs": [
    {
     "name": "stdout",
     "output_type": "stream",
     "text": [
      "hrr\n"
     ]
    }
   ],
   "source": [
    "#  \r\n",
    "h=\"ahrry\"\r\n",
    "print(h[1:4]) # see starting index 1 means here \"h\" is not neglecting or erase . \r\n",
    "              # just last index 4 means here \"y\" is erase from the given output."
   ]
  },
  {
   "cell_type": "markdown",
   "metadata": {},
   "source": [
    "#  what is string slicing in python\r\n",
    "\r\n",
    " a  string slicing in python  can  be sliced  for getting part of the string slice\r\n",
    " \r\n",
    " consider the following string \r\n",
    "\r\n",
    " name= \"harry\"\r\n",
    " length = 5\r\n",
    "\r\n",
    "the indexing in a string  state from  0 to -1 in python. in order to slice a string\r\n",
    "we use the following syntax \r\n",
    "\r\n",
    "sl= name[first index: last index]\r\n",
    "# fisrt index included and last index does not included \r\n",
    "\r\n",
    "sl[0:3] return \"har\" --> character from 0 to 3\r\n",
    "\r\n",
    "sl[1:3] return \"ar\" --> character from 1 to 3.\r\n",
    "\r\n",
    "# what is negative indices in  python. \r\n",
    "\r\n",
    "negative indices  is used to access last character of an string in  python . \r\n",
    "\r\n",
    "p=\"harry\" positive indices are 0,1,2,3,4 and negative indices are -1,-2,-3,-4,-5\r\n",
    "# harry \r\n",
    "  0,1,2,3,4 for positive indices\r\n",
    "\r\n",
    "# harry \r\n",
    "  -5,-4,-3,-2,-1. for negative indices\r\n",
    "\r\n",
    "def 2= "
   ]
  },
  {
   "cell_type": "markdown",
   "metadata": {},
   "source": [
    "# before testing the negative indices . lets know advanced string concepts \r\n"
   ]
  },
  {
   "cell_type": "code",
   "execution_count": 1,
   "metadata": {},
   "outputs": [
    {
     "name": "stdout",
     "output_type": "stream",
     "text": [
      "harr\n"
     ]
    }
   ],
   "source": [
    "p=\"harry\"\r\n",
    "print(p[:4]) # if you don't write/ blank the the 0 index while in print  statement then it automatic replace a \"0\" index of an string character. "
   ]
  },
  {
   "cell_type": "code",
   "execution_count": 3,
   "metadata": {},
   "outputs": [
    {
     "name": "stdout",
     "output_type": "stream",
     "text": [
      "harry\n",
      "harry\n"
     ]
    }
   ],
   "source": [
    "print(p[:])  # print same as the p string variable [1:5]\r\n",
    "print(p[0:]) # print same as the p or [1:5]"
   ]
  },
  {
   "cell_type": "code",
   "execution_count": 4,
   "metadata": {},
   "outputs": [
    {
     "name": "stdout",
     "output_type": "stream",
     "text": [
      "arr\n"
     ]
    }
   ],
   "source": [
    "# let practice  for negative index : \r\n",
    "name=\"harry\"\r\n",
    "c=name[-4:-1] #  print same as the [1:4]\r\n",
    "print(c)\r\n"
   ]
  },
  {
   "cell_type": "markdown",
   "metadata": {},
   "source": [
    "# slicing with skip values\r\n",
    "\r\n",
    "we  can provide a skip value as a part of  our slice like this:\r\n",
    "\r\n",
    "sword='amazing'\r\n",
    "sword[1:6:1]"
   ]
  },
  {
   "cell_type": "code",
   "execution_count": 6,
   "metadata": {},
   "outputs": [
    {
     "name": "stdout",
     "output_type": "stream",
     "text": [
      "mazin\n"
     ]
    }
   ],
   "source": [
    "# slicing with skip values\r\n",
    "\r\n",
    "\r\n",
    "sword='amazing'\r\n",
    "x=sword[1:6:1] # first print 1 to 6 (mean = mazin and then skip 1 ) and then as skip value an third  arguments it skip value of 1 mean nothing is skip cause it taking 1 after 1.  to understand this lets explore  another example.\r\n",
    "print(x)"
   ]
  },
  {
   "cell_type": "code",
   "execution_count": 14,
   "metadata": {},
   "outputs": [
    {
     "name": "stdout",
     "output_type": "stream",
     "text": [
      "azg\n"
     ]
    }
   ],
   "source": [
    "# 2nd example\r\n",
    "h=\"amazing\" \r\n",
    "print(h[0::3])"
   ]
  },
  {
   "cell_type": "markdown",
   "metadata": {},
   "source": [
    "# other advancing string slicing"
   ]
  },
  {
   "cell_type": "code",
   "execution_count": 18,
   "metadata": {},
   "outputs": [
    {
     "name": "stdout",
     "output_type": "stream",
     "text": [
      "harry\n",
      "harry\n"
     ]
    }
   ],
   "source": [
    "p\r\n",
    "print(p[:6])\r\n",
    "print(p[0:])"
   ]
  },
  {
   "cell_type": "markdown",
   "metadata": {},
   "source": [
    "# string functions \r\n",
    "\r\n",
    "some of the mostly used funtion to perform operation on manipulte or string are:\r\n",
    "\r\n",
    "1. len() function--> this function return the length of the string.\r\n",
    "\r\n",
    "   ex=\"harry\"\r\n",
    "   return length is 5.\r\n",
    "\r\n",
    "2. string.endswith(\"some text \") funtion--> \r\n",
    "\r\n",
    "      this function tells whether the variable string ends with a string \"some text \" or not. if string is \"harry\", it return True for \"rry\" since harry ends with  rry. \r\n",
    "\r\n",
    "3. counts(\"o\") funtion --> this funtion counts the total number of occurance of \r\n",
    "\r\n",
    "   the character .\r\n",
    "\r\n",
    "4. capatalize() funtion --> this funtion capatalize the first chracter of a given \r\n",
    "   string. \r\n",
    "\r\n",
    "5.  string.find() funtion --> this funtion find the word and return the index \r\n",
    "   of first occurance of the that word in  the string in the string.\r\n",
    "\r\n",
    "6.   string.replace() funtion --> this funtion replace the old word with new one in\r\n",
    "     the entire string."
   ]
  },
  {
   "cell_type": "code",
   "execution_count": 13,
   "metadata": {},
   "outputs": [
    {
     "name": "stdout",
     "output_type": "stream",
     "text": [
      "96\n",
      "once upon a time there was an youtuber gamer called mr jones wills he is legend in the pubg game\n",
      "True\n",
      "1\n",
      "Once upon a time there was an youtuber gamer called mr jones wills he is legend in the pubg game\n",
      "55\n",
      "once upon a time there was an youtuber gamer called mr harry wills he is legend in the pubg game\n"
     ]
    }
   ],
   "source": [
    "story='''once upon a time there was an youtuber gamer called mr jones wills he is legend in the pubg game''' \r\n",
    "\r\n",
    "\r\n",
    "print(len(story))\r\n",
    "print(story)\r\n",
    "print(story.endswith(\"game\"))  \r\n",
    "print(story.count(\"once\"))\r\n",
    "print(story.capitalize())\r\n",
    "print(story.find(\"jones\"))\r\n",
    "print(story.replace(\"jones\",\"harry\"))"
   ]
  },
  {
   "cell_type": "markdown",
   "metadata": {},
   "source": [
    "# escape sequence character \r\n",
    "\r\n",
    "sequence of character after backslash \"\\\" --> escape sequence character\r\n",
    "\r\n",
    "escape character sequence character compromise more than one character but represent one character when used within the string.\r\n",
    "\r\n",
    "EXAMPle ;- \\n for newline\r\n",
    "        :- \\t for tab means space\r\n",
    "        ::- \\' for single quote\r\n",
    "        :- \\\\ for backslash etc."
   ]
  },
  {
   "cell_type": "code",
   "execution_count": 16,
   "metadata": {},
   "outputs": [
    {
     "name": "stdout",
     "output_type": "stream",
     "text": [
      "may id go.\n",
      "he is very good.\n"
     ]
    }
   ],
   "source": [
    "# \\n help for newline insertings character \r\n",
    "\r\n",
    "story= 'may id go.\\nhe is very good.'\r\n",
    "print(story) "
   ]
  },
  {
   "cell_type": "markdown",
   "metadata": {},
   "source": [
    "# PRACTICE SET"
   ]
  },
  {
   "cell_type": "markdown",
   "metadata": {},
   "source": [
    "# 01 write a program to display a  user entered name follwed by good after noon using input() funtion."
   ]
  },
  {
   "cell_type": "code",
   "execution_count": 21,
   "metadata": {},
   "outputs": [
    {
     "name": "stdout",
     "output_type": "stream",
     "text": [
      "good Morning rd\n",
      "rd good Morning \n"
     ]
    }
   ],
   "source": [
    "name=input(\"enter a name : \")\r\n",
    "\r\n",
    "print(\"good Morning \" + name )\r\n",
    "print( name + \" good Morning \")"
   ]
  },
  {
   "cell_type": "markdown",
   "metadata": {},
   "source": [
    "# 02 write a program to fill in a letter template given below with name and date."
   ]
  },
  {
   "cell_type": "code",
   "execution_count": 43,
   "metadata": {},
   "outputs": [
    {
     "name": "stdout",
     "output_type": "stream",
     "text": [
      "dear<rohan> \n",
      "                you are selected !\n",
      "                <12th may 3939>\n"
     ]
    }
   ],
   "source": [
    "letter='''dear<!name!> \r\n",
    "                you are selected !\r\n",
    "                <!date!>'''\r\n",
    "jayram=input()\r\n",
    "date=input()\r\n",
    "\r\n",
    "letter=letter.replace(\"!name!\",jayram)\r\n",
    "letter=letter.replace(\"!date!\",date)\r\n",
    "\r\n",
    "print(letter)  \r\n",
    "\r\n",
    "\r\n",
    "\r\n"
   ]
  },
  {
   "cell_type": "markdown",
   "metadata": {},
   "source": [
    "# 03 write a python program to detect a double spaces in string."
   ]
  },
  {
   "cell_type": "code",
   "execution_count": 18,
   "metadata": {},
   "outputs": [
    {
     "name": "stdout",
     "output_type": "stream",
     "text": [
      "this is me in the world night of the   srit\n",
      "36\n"
     ]
    }
   ],
   "source": [
    "p=\"this  is  me  in  the  world  night  of  the     srit\"\r\n",
    "\r\n",
    "# p=p.find(\"  \")\r\n",
    "p=p.replace(\"  \",\" \") \r\n",
    "print(p)\r\n",
    "print(p.find(\"  \"))\r\n",
    "\r\n",
    "\r\n"
   ]
  },
  {
   "cell_type": "code",
   "execution_count": 20,
   "metadata": {},
   "outputs": [
    {
     "name": "stdout",
     "output_type": "stream",
     "text": [
      "this is me in the world night of the  srit\n"
     ]
    }
   ],
   "source": [
    "p=\"this  is  me  in  the  world  night  of  the    srit\"\r\n",
    "\r\n",
    "# p=p.find(\"  \")\r\n",
    "p=p.replace(\"  \",\" \") # note if have more than one double spaces then it replace by single space .\r\n",
    "\r\n",
    "print(p)\r\n",
    "\r\n",
    "# print(p.find(\"  \"))\r\n",
    "\r\n",
    "\r\n"
   ]
  },
  {
   "cell_type": "markdown",
   "metadata": {},
   "source": [
    "# 04 write a python program to format the following letter using escape sequence character .\r\n",
    "\r\n",
    "letter = \"dear j, this course is nice. thanks!"
   ]
  },
  {
   "cell_type": "code",
   "execution_count": 25,
   "metadata": {},
   "outputs": [
    {
     "name": "stdout",
     "output_type": "stream",
     "text": [
      "dear j,\n",
      "\tthis python course is  nice.\n",
      "Thanks! \n"
     ]
    }
   ],
   "source": [
    "letter = \"dear j,\\nthis python course is  nice.Thanks! \"\r\n",
    "# print(letter)\r\n",
    "\r\n",
    "letter_format = \"dear j,\\n\\tthis python course is  nice.\\nThanks! \"\r\n",
    "print(letter_format)"
   ]
  },
  {
   "cell_type": "markdown",
   "metadata": {},
   "source": [
    "#  Ending string."
   ]
  }
 ],
 "metadata": {
  "interpreter": {
   "hash": "d21333ff62c43b8d3f22f2fffa3b7389f580599dfc1ab4fc74fc1532be50abca"
  },
  "kernelspec": {
   "display_name": "Python 3.9.5 64-bit",
   "name": "python3"
  },
  "language_info": {
   "name": "python",
   "version": ""
  },
  "orig_nbformat": 4
 },
 "nbformat": 4,
 "nbformat_minor": 2
}