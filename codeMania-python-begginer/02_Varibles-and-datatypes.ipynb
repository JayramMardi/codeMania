{
 "metadata": {
  "language_info": {
   "codemirror_mode": {
    "name": "ipython",
    "version": 3
   },
   "file_extension": ".py",
   "mimetype": "text/x-python",
   "name": "python",
   "nbconvert_exporter": "python",
   "pygments_lexer": "ipython3",
   "version": "3.9.5"
  },
  "orig_nbformat": 4,
  "kernelspec": {
   "name": "python3",
   "display_name": "Python 3.9.5 64-bit"
  },
  "interpreter": {
   "hash": "d21333ff62c43b8d3f22f2fffa3b7389f580599dfc1ab4fc74fc1532be50abca"
  }
 },
 "nbformat": 4,
 "nbformat_minor": 2,
 "cells": [
  {
   "source": [
    "# varibles and data types \n",
    "\n",
    "varibles are container is  a name is given to a memory allocated with program datatypes values  and datatypes are the varibles kinds like int datatype, string datatype etc. "
   ],
   "cell_type": "markdown",
   "metadata": {}
  },
  {
   "source": [
    "# how python can identify \n",
    "\n",
    "variable and data types . so basically identify if  you write a= 30 it sees no double quotes(\") no decimal point (.) so its int literal which means by default int datatypes and rapidly identified as well as  string, int ,float etc."
   ],
   "cell_type": "markdown",
   "metadata": {}
  },
  {
   "cell_type": "code",
   "execution_count": 1,
   "metadata": {},
   "outputs": [
    {
     "output_type": "stream",
     "name": "stdout",
     "text": [
      "<class 'str'>\n<class 'int'>\n<class 'float'>\n"
     ]
    }
   ],
   "source": [
    "p=\"harry\"\n",
    "a=348\n",
    "b=3434.334343\n",
    "print(type(p))\n",
    "print(type(a))\n",
    "print(type(b))"
   ]
  },
  {
   "source": [
    "# variable = are to store a value\n",
    "  keyword  = reserverd word in python ......................................\n",
    "  identifier = class / function / variables Name"
   ],
   "cell_type": "markdown",
   "metadata": {}
  },
  {
   "source": [
    "# EXAMPLE \n",
    "DEF, CLASS ARE THE RESERVED WORD IN PYTHON"
   ],
   "cell_type": "markdown",
   "metadata": {}
  },
  {
   "source": [
    "# WHAT ARE DATA TYPES \n",
    "\n",
    "some data types like \n",
    "\n",
    "int = -34,-3,-1,0,3,4,6,7.. are int data types"
   ],
   "cell_type": "markdown",
   "metadata": {}
  },
  {
   "source": [
    "# float = decimal within a number is floating point number in float data types "
   ],
   "cell_type": "markdown",
   "metadata": {}
  },
  {
   "source": [
    "# strings\n",
    "\n",
    "string is simply a text representation within a single, double quotes or trippple quotes for multiline strings."
   ],
   "cell_type": "markdown",
   "metadata": {}
  },
  {
   "source": [
    "# boolean \n",
    "boolean gives output only True or False recommendation in  programming language. IF YOU DEAL WITH two value if it is false or true than you can use this boolean data types for your codes. example right below down."
   ],
   "cell_type": "markdown",
   "metadata": {}
  },
  {
   "cell_type": "code",
   "execution_count": 7,
   "metadata": {},
   "outputs": [
    {
     "output_type": "stream",
     "name": "stdout",
     "text": [
      "True\n"
     ]
    }
   ],
   "source": [
    "if 89798>3:\n",
    "    print(True)\n",
    "else:\n",
    "    print(False)\n",
    "    "
   ]
  },
  {
   "source": [
    "# NONE \n",
    "is simply denoted for represent if you want to give none values then you can use it as a=None to show in code "
   ],
   "cell_type": "markdown",
   "metadata": {}
  },
  {
   "cell_type": "code",
   "execution_count": 10,
   "metadata": {},
   "outputs": [
    {
     "output_type": "stream",
     "name": "stdout",
     "text": [
      "<class 'NoneType'>\n"
     ]
    }
   ],
   "source": [
    "d=None\n",
    "print(type(d))\n",
    "\n"
   ]
  },
  {
   "source": [
    "# what is type ?\n",
    "# python has class and objects we will discuss later about that.type is function which we call and gives the outputs of  which class of variable present in name or variable you created . \n"
   ],
   "cell_type": "markdown",
   "metadata": {}
  },
  {
   "cell_type": "code",
   "execution_count": null,
   "metadata": {},
   "outputs": [],
   "source": []
  },
  {
   "source": [
    "# rule for creating variable names\n",
    "1. variable name contains names underscore and digits.\n",
    "2. A variable can start with alphabets or underscore.\n",
    "3. A variable can not start with digit.\n",
    "4. A Variable is case-sensitive mean a or A are both different aspect of variable .\n",
    "5. NO white space are allowed to be used in  variable names.\n"
   ],
   "cell_type": "markdown",
   "metadata": {}
  },
  {
   "source": [
    "# Operators in python\n",
    "common operators in python:\n",
    "\n",
    "1. arithimetic operators = +,-,*,/ etc.\n",
    "2. assignment operators :-  =, += , -= , etc. \n",
    "3. camparision operators:- == , > , >=, <, <= ,!= , etc. \n",
    "4. logical operators :- and, or,  not.\n"
   ],
   "cell_type": "markdown",
   "metadata": {}
  },
  {
   "source": [
    "# arithmetic opertor.py"
   ],
   "cell_type": "markdown",
   "metadata": {}
  },
  {
   "cell_type": "code",
   "execution_count": null,
   "metadata": {},
   "outputs": [],
   "source": [
    "a =343\n",
    "b=38437498\n",
    "\n",
    "print(\"sum of a+b\",a+b)"
   ]
  },
  {
   "source": [
    "# assignment operator .py\n"
   ],
   "cell_type": "markdown",
   "metadata": {}
  },
  {
   "source": [
    "# if you add 3 to a int variable just follow step using assignment operator\n"
   ],
   "cell_type": "markdown",
   "metadata": {}
  },
  {
   "cell_type": "code",
   "execution_count": 2,
   "metadata": {},
   "outputs": [
    {
     "output_type": "stream",
     "name": "stdout",
     "text": [
      "11\n"
     ]
    }
   ],
   "source": [
    "i=8\n",
    "i+=3\n",
    "print(i)"
   ]
  },
  {
   "cell_type": "code",
   "execution_count": 3,
   "metadata": {},
   "outputs": [
    {
     "output_type": "stream",
     "name": "stdout",
     "text": [
      "0\n"
     ]
    }
   ],
   "source": [
    "i=34\n",
    "i-=34\n",
    "print(i)\n"
   ]
  },
  {
   "cell_type": "code",
   "execution_count": 5,
   "metadata": {},
   "outputs": [
    {
     "output_type": "stream",
     "name": "stdout",
     "text": [
      "12\n"
     ]
    }
   ],
   "source": [
    "p=3\n",
    "p*=4\n",
    "print(p)"
   ]
  },
  {
   "cell_type": "code",
   "execution_count": 6,
   "metadata": {},
   "outputs": [
    {
     "output_type": "stream",
     "name": "stdout",
     "text": [
      "10.117647058823529\n"
     ]
    }
   ],
   "source": [
    "o=344\n",
    "o/=34\n",
    "print(o)"
   ]
  },
  {
   "source": [
    "# camparision operator \n",
    "camparision  operator campare between  two entities to which is True or False like boolean."
   ],
   "cell_type": "markdown",
   "metadata": {}
  },
  {
   "cell_type": "code",
   "execution_count": 1,
   "metadata": {},
   "outputs": [
    {
     "output_type": "stream",
     "name": "stdout",
     "text": [
      "False\n"
     ]
    }
   ],
   "source": [
    "b=4>6\n",
    "print(b)"
   ]
  },
  {
   "cell_type": "code",
   "execution_count": 2,
   "metadata": {},
   "outputs": [
    {
     "output_type": "stream",
     "name": "stdout",
     "text": [
      "True\n"
     ]
    }
   ],
   "source": [
    "b=34>33\n",
    "print(b)"
   ]
  },
  {
   "cell_type": "code",
   "execution_count": 3,
   "metadata": {},
   "outputs": [
    {
     "output_type": "stream",
     "name": "stdout",
     "text": [
      "True\n"
     ]
    }
   ],
   "source": [
    "b=(34>=3)\n",
    "print(b)"
   ]
  },
  {
   "cell_type": "code",
   "execution_count": 5,
   "metadata": {},
   "outputs": [
    {
     "output_type": "stream",
     "name": "stdout",
     "text": [
      "False\n"
     ]
    }
   ],
   "source": [
    "n=(3434==34343)\n",
    "print(n)\n"
   ]
  },
  {
   "cell_type": "code",
   "execution_count": 7,
   "metadata": {},
   "outputs": [
    {
     "output_type": "stream",
     "name": "stdout",
     "text": [
      "True\n"
     ]
    }
   ],
   "source": [
    "p=24!=98\n",
    "print(p)"
   ]
  },
  {
   "source": [
    "# logical operator \n",
    "\n",
    "AND , OR and NOT are the most  usable of all the time which is related to boolean algebra concept here. NOT is use only for one  variable .\n",
    "\n"
   ],
   "cell_type": "markdown",
   "metadata": {}
  },
  {
   "cell_type": "code",
   "execution_count": 10,
   "metadata": {},
   "outputs": [
    {
     "output_type": "stream",
     "name": "stdout",
     "text": [
      "the value of bool1  and bool2 False\nthe value of bool1 or bool2 True\nthe value of  not bool2 True\n"
     ]
    }
   ],
   "source": [
    "bool1=True\n",
    "bool2=False\n",
    "\n",
    "print(\"the value of bool1  and bool2\",bool1  and  bool2)\n",
    "print(\"the value of bool1 or bool2\",bool1 or bool2)\n",
    "print(\"the value of  not bool2\",   not bool2)\n"
   ]
  },
  {
   "source": [
    "# type  funcion and typecasting\n",
    "\n",
    "type is used to find the data type of given variable in python.\n",
    "and typecasting is used to change one type to another datatypes like int variable to float variable.\n",
    "\n"
   ],
   "cell_type": "markdown",
   "metadata": {}
  },
  {
   "source": [
    "# typecasting.py"
   ],
   "cell_type": "markdown",
   "metadata": {}
  },
  {
   "cell_type": "code",
   "execution_count": 12,
   "metadata": {},
   "outputs": [
    {
     "output_type": "stream",
     "name": "stdout",
     "text": [
      "43.0\n"
     ]
    }
   ],
   "source": [
    "a=43\n",
    "a=float(a)\n",
    "print(a)"
   ]
  },
  {
   "source": [
    "# string  to int literal\n",
    "int to string literal"
   ],
   "cell_type": "markdown",
   "metadata": {}
  },
  {
   "source": [
    "# what is input function?\n",
    "\n",
    "input function allows to you to take input values from the user through Keyboard as a string or int value under the string  datatype etc.\n",
    "\n"
   ],
   "cell_type": "markdown",
   "metadata": {}
  },
  {
   "source": [
    "#   input function.py\n"
   ],
   "cell_type": "markdown",
   "metadata": {}
  },
  {
   "source": [
    "a=input(\"enter your name\")\n",
    "a=int(a)\n",
    "print(a)\n"
   ],
   "cell_type": "markdown",
   "metadata": {}
  },
  {
   "source": [
    "# PRACTICE SET"
   ],
   "cell_type": "markdown",
   "metadata": {}
  },
  {
   "source": [
    "# add.py"
   ],
   "cell_type": "markdown",
   "metadata": {}
  },
  {
   "cell_type": "code",
   "execution_count": 22,
   "metadata": {},
   "outputs": [
    {
     "output_type": "stream",
     "name": "stdout",
     "text": [
      "the sum is a+b 68\n"
     ]
    }
   ],
   "source": [
    "# write  a program to add two number "
   ]
  },
  {
   "source": [
    "a=34\n",
    "b=34\n",
    "\n",
    "print(\"the sum is a+b\",a+b)"
   ],
   "cell_type": "markdown",
   "metadata": {}
  },
  {
   "cell_type": "code",
   "execution_count": 26,
   "metadata": {},
   "outputs": [
    {
     "output_type": "stream",
     "name": "stdout",
     "text": [
      "22.5\n"
     ]
    }
   ],
   "source": [
    "# write a program to find the remainder if a number is divisible by 2."
   ]
  },
  {
   "cell_type": "code",
   "execution_count": 27,
   "metadata": {},
   "outputs": [
    {
     "output_type": "stream",
     "name": "stdout",
     "text": [
      "the remainder when a is divisible by b is 0\n"
     ]
    }
   ],
   "source": [
    "p=45\n",
    "\n",
    "p/=2\n",
    "print(p)\n"
   ]
  },
  {
   "source": [
    "a= 45 \n",
    "b=  15\n",
    "\n",
    "print(\"the remainder when a is divisible by b is\",a%b)\n"
   ],
   "cell_type": "markdown",
   "metadata": {}
  },
  {
   "cell_type": "code",
   "execution_count": 30,
   "metadata": {},
   "outputs": [
    {
     "output_type": "stream",
     "name": "stdout",
     "text": [
      "<class 'str'>\n"
     ]
    }
   ],
   "source": [
    "# check the type of a funtion using input funtion"
   ]
  },
  {
   "source": [
    "a=input(\"enter a number \")\n",
    "print(type(a))"
   ],
   "cell_type": "markdown",
   "metadata": {}
  },
  {
   "cell_type": "code",
   "execution_count": 35,
   "metadata": {},
   "outputs": [
    {
     "output_type": "stream",
     "name": "stdout",
     "text": [
      "a is greator than b is  False\n"
     ]
    }
   ],
   "source": [
    "# use camparision between two variable having a=34 and b =80 and is greator or not."
   ]
  },
  {
   "source": [
    "a=34\n",
    "b=80\n",
    "\n",
    "print(\"a is greator than b is \",a>b)\n"
   ],
   "cell_type": "code",
   "metadata": {},
   "execution_count": null,
   "outputs": []
  },
  {
   "source": [
    "a=34\n",
    "b=80\n",
    "\n",
    "average=(34+80)/2 # please keep number under bracket cause if you do wihtout a giving that than your coding may break the exact answer try this .\n",
    "print(average)\n",
    "\n"
   ],
   "cell_type": "markdown",
   "metadata": {}
  },
  {
   "cell_type": "code",
   "execution_count": 40,
   "metadata": {},
   "outputs": [
    {
     "output_type": "stream",
     "name": "stdout",
     "text": [
      "74.0\n"
     ]
    }
   ],
   "source": [
    "# write a program find the average between two number ."
   ]
  },
  {
   "source": [
    "p=34+80/2\n",
    "print(p)\n"
   ],
   "cell_type": "markdown",
   "metadata": {}
  },
  {
   "cell_type": "code",
   "execution_count": 79,
   "metadata": {},
   "outputs": [
    {
     "output_type": "stream",
     "name": "stdout",
     "text": [
      "1058\n"
     ]
    }
   ],
   "source": [
    "# 05 write a program to to calculate the square of a number entered by the user\n"
   ]
  }
 ]
}