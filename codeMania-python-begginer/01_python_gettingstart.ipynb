{
 "cells": [
  {
   "cell_type": "markdown",
   "source": [
    "# What Is Programming\n",
    "\n",
    "python is easy to use and less development time, high level  language it means don't very about the memory allocated or crash your proggramer code portablity first class it installed on windows/man /linux and instllation is very quick ."
   ],
   "metadata": {}
  },
  {
   "cell_type": "markdown",
   "source": [
    "# Modules PiP And  Comments \n",
    "\n",
    "module are the code which is written  by  somone else and use it for coding purpose for everyone by downloading and write in the terminal pip install module name and hit enter . "
   ],
   "metadata": {}
  },
  {
   "cell_type": "markdown",
   "source": [
    "# 01 hello.py"
   ],
   "metadata": {}
  },
  {
   "cell_type": "code",
   "execution_count": 4,
   "source": [
    "print(\"HELLO WORLD\")"
   ],
   "outputs": [
    {
     "output_type": "stream",
     "name": "stdout",
     "text": [
      "HELLO WORLD\n"
     ]
    }
   ],
   "metadata": {}
  },
  {
   "cell_type": "markdown",
   "source": [
    "# what are pip\n",
    "\n",
    "pip are basically python pacakage installer and use it for download modules which are  pre installed with the python interpreter . "
   ],
   "metadata": {}
  },
  {
   "cell_type": "code",
   "execution_count": null,
   "source": [
    "# download pip by pip install os like that"
   ],
   "outputs": [],
   "metadata": {}
  },
  {
   "cell_type": "markdown",
   "source": [
    "# what are comments \n",
    "\n",
    "comments are basically readible but not execute cause this not a valid syntax of python programming language . comments can be written in sinle line comments and multiline comments , # for single and ''' for multiline and both written under the comments"
   ],
   "metadata": {}
  },
  {
   "cell_type": "code",
   "execution_count": 1,
   "source": [
    "'''\n",
    "hello world\n",
    "'''"
   ],
   "outputs": [
    {
     "output_type": "execute_result",
     "data": {
      "text/plain": [
       "'\\nhello world\\n'"
      ]
     },
     "metadata": {},
     "execution_count": 1
    }
   ],
   "metadata": {}
  },
  {
   "cell_type": "markdown",
   "source": [
    "# PRACTISE SET\n"
   ],
   "metadata": {}
  },
  {
   "cell_type": "markdown",
   "source": [
    "# write a program to print twinke little star poem"
   ],
   "metadata": {}
  },
  {
   "cell_type": "code",
   "execution_count": 7,
   "source": [
    "print('''twinkle little star \n",
    "how i wonder what you are ''')"
   ],
   "outputs": [
    {
     "output_type": "stream",
     "name": "stdout",
     "text": [
      "twinkle little star \n",
      "how i wonder what you are \n"
     ]
    }
   ],
   "metadata": {}
  },
  {
   "cell_type": "markdown",
   "source": [
    "# 01 problem of twinkel star print statements\n",
    "\n",
    "if your under double quotes means \" python print the error statements because you cannot write multiline comments in double quotes. the question arises that tripple qotes are comments, the tripple quotes comments only in alone executable but if you write tripple quotes under the print statements it will give you a string literal which means no errror will provide it to you and your code will run."
   ],
   "metadata": {}
  },
  {
   "cell_type": "markdown",
   "source": [
    "# use python as a calculator using repl \n",
    "\n",
    "what does mean repl it means read evalute print loop we using python in terminal for calculation purpose in a continious loop "
   ],
   "metadata": {}
  },
  {
   "cell_type": "code",
   "execution_count": null,
   "source": [
    "# in the terminal print(print the table of 5)"
   ],
   "outputs": [],
   "metadata": {}
  },
  {
   "cell_type": "markdown",
   "source": [
    "# 02 install an external module and use it perform operation for your own interest "
   ],
   "metadata": {}
  },
  {
   "cell_type": "markdown",
   "source": [
    "# 03 go the terminal install \n",
    " a module example like pip install playsound\n",
    "and use it like this from playsound import playsound and you use funtion on later aspect lets continue.... \n",
    "if you want to learn how to fully use it just learn its document and practice it so you can create your own ."
   ],
   "metadata": {}
  },
  {
   "cell_type": "code",
   "execution_count": null,
   "source": [
    "from playsound import playsound\n",
    "playsound('X:\\\\HINDI SONGS\\\\GF BF (Jacqueline Fernandez) - 320 Kbps - (BossMp3.In).mp3')"
   ],
   "outputs": [],
   "metadata": {}
  },
  {
   "cell_type": "markdown",
   "source": [
    "# 04 write a program\n",
    "  to print the content of a directory using os module "
   ],
   "metadata": {}
  },
  {
   "cell_type": "code",
   "execution_count": 6,
   "source": [
    "import os\n",
    "print(os.listdir())"
   ],
   "outputs": [
    {
     "output_type": "stream",
     "name": "stdout",
     "text": [
      "['.vscode', '1_DEF_FUCTION.ipynb', 'python_gettingstart.ipynb', 'STRING_.ipynb', 'STRING_SLICES.ipynb']\n"
     ]
    }
   ],
   "metadata": {}
  },
  {
   "cell_type": "markdown",
   "source": [
    "# 05 lable the program 04 written in comments"
   ],
   "metadata": {}
  },
  {
   "cell_type": "code",
   "execution_count": 1,
   "source": [
    "'''\n",
    "name=jusco\n",
    "client date= 34th march 3898\n",
    "'''\n",
    "import os\n",
    "print(os.listdir())\n"
   ],
   "outputs": [
    {
     "output_type": "stream",
     "name": "stdout",
     "text": [
      "['.vscode', '1_DEF_FUCTION.ipynb', 'python_gettingstart.ipynb', 'STRING_.ipynb', 'STRING_SLICES.ipynb']\n"
     ]
    }
   ],
   "metadata": {}
  }
 ],
 "metadata": {
  "interpreter": {
   "hash": "d21333ff62c43b8d3f22f2fffa3b7389f580599dfc1ab4fc74fc1532be50abca"
  },
  "kernelspec": {
   "display_name": "Python 3.9.5 64-bit",
   "name": "python3"
  },
  "language_info": {
   "name": "python",
   "version": ""
  },
  "orig_nbformat": 4
 },
 "nbformat": 4,
 "nbformat_minor": 2
}