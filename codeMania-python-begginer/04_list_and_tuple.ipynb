{
 "cells": [
  {
   "cell_type": "markdown",
   "metadata": {},
   "source": [
    "# what is list in python? \r\n",
    "  python  list are the container to store a set of value of any data type,  \r\n",
    "  friend=[\"apple\",\"harry\",393,False,True,38939.454]\r\n",
    "  "
   ]
  },
  {
   "cell_type": "code",
   "execution_count": 5,
   "metadata": {},
   "outputs": [
    {
     "name": "stdout",
     "output_type": "stream",
     "text": [
      "<class 'list'>\n",
      "1\n",
      "[3434, 2, 3, 4, 5, 65]\n"
     ]
    }
   ],
   "source": [
    "# accessing of list item throught index methods.\r\n",
    "list=[1,2,3,4,5,65]\r\n",
    "print(type(list)) \r\n",
    "\r\n",
    "print(list[0]) # note that index numbering starts from 0 to -1.\r\n",
    "\r\n",
    "\r\n",
    "# item assignment usint this syntax . note that item is not applicable for string datatype.\r\n",
    "\r\n",
    "list[0]=3434\r\n",
    "print(list)\r\n",
    "\r\n",
    "\r\n"
   ]
  },
  {
   "cell_type": "markdown",
   "metadata": {},
   "source": [
    "# we can create a list of different data types."
   ]
  },
  {
   "cell_type": "code",
   "execution_count": 10,
   "metadata": {},
   "outputs": [
    {
     "name": "stdout",
     "output_type": "stream",
     "text": [
      "['apple', 34.34, False, True, 343, None]\n"
     ]
    }
   ],
   "source": [
    "# for example \r\n",
    "list=[\"apple\",34.34,False,True,343,None]\r\n",
    "\r\n",
    "# print(list(type)) note:- if you find the type of list variable python gives error because object is not callable you will understand object in \"oops\" .\r\n",
    "print(list)"
   ]
  },
  {
   "cell_type": "markdown",
   "metadata": {},
   "source": [
    "# list slicing\r\n"
   ]
  },
  {
   "cell_type": "code",
   "execution_count": 12,
   "metadata": {},
   "outputs": [
    {
     "name": "stdout",
     "output_type": "stream",
     "text": [
      "['apple', 'banana', 'orange', 'pineapple']\n",
      "['banana', 'orange', 'pineapple', 'strawberry']\n"
     ]
    }
   ],
   "source": [
    "list=[\"apple\",\"banana\",\"orange\",\"pineapple\",\"strawberry\"]\r\n",
    "     # 0         1         2        3         4      positive indices       \r\n",
    "     # -5        -4       -3       -2        -1      negative indices\r\n",
    "\r\n",
    "print(list[0:4])\r\n",
    "print(list[-4:])"
   ]
  },
  {
   "cell_type": "markdown",
   "metadata": {},
   "source": [
    "#  list method\r\n",
    "\r\n",
    "   consider the following list method:\r\n",
    "   l1= [1,2,3,4,5,6,7,8]\r\n",
    "\r\n",
    "  1. list.sort(): updates the list to [1,2,3,4,5,6,7,8,334\r\n",
    "  2. list.reverse(): update the list [334,8,7,6,5,4,3,2,1]\r\n",
    "  3. list.append(): update the list using add item in the end .\r\n",
    "  4. list.insert(3,8): this will add 8 at the index of 3.\r\n",
    "  5. list.pop(2): this will remove an item at the index of 2. and return its value\r\n",
    "  6. list.remove(3434): this will remove the 3434 from the list."
   ]
  },
  {
   "cell_type": "code",
   "execution_count": 12,
   "metadata": {},
   "outputs": [
    {
     "name": "stdout",
     "output_type": "stream",
     "text": [
      "[1, 2, 3, 4, 5, 6]\n",
      "[6, 5, 4, 3, 2, 1]\n",
      "[6, 5, 4, 3, 2, 1, 3434, 348789]\n",
      "[6, 5, 4, 8, 3, 2, 1, 3434, 348789]\n",
      "[6, 5, 4, 3, 2, 1, 3434, 348789]\n",
      "[6, 5, 4, 3, 2, 1, 348789]\n"
     ]
    }
   ],
   "source": [
    "# example()\r\n",
    "\r\n",
    "\r\n",
    "l1=[1,2,3,6,4,5]\r\n",
    "l1.sort() # sort the list this method updates the list orderily.   \r\n",
    "print(l1)\r\n",
    "\r\n",
    "l1.reverse() # reverse the list\r\n",
    "print(l1)\r\n",
    "\r\n",
    "l1.append(3434) # add the list item in the end . \r\n",
    "l1.append(348789) # add the list item in the end . \r\n",
    "print(l1)\r\n",
    "\r\n",
    "l1.insert(3,8) \r\n",
    "print(l1)\r\n",
    "\r\n",
    "l1.pop(3)\r\n",
    "print(l1)\r\n",
    "\r\n",
    "l1.remove(3434)\r\n",
    "print(l1)"
   ]
  },
  {
   "cell_type": "code",
   "execution_count": 33,
   "metadata": {},
   "outputs": [
    {
     "name": "stdout",
     "output_type": "stream",
     "text": [
      "4686\n",
      "harry is good \n"
     ]
    }
   ],
   "source": [
    "# add two item using list.\r\n",
    "\r\n",
    "list=[343,\"harry\",4343,\" is\",\" good \"]\r\n",
    "\r\n",
    "li2=list[ 1 ] + list[3] +list[ 4 ] #if you print the space use  this method. just give space in your items.\r\n",
    "\r\n",
    "\r\n",
    "li=list[0]+ list[2]\r\n",
    "\r\n",
    "print(li)\r\n",
    "print(li2)"
   ]
  },
  {
   "cell_type": "markdown",
   "metadata": {},
   "source": [
    "# Geting started with Tuples :"
   ]
  },
  {
   "cell_type": "markdown",
   "metadata": {},
   "source": [
    "# Tuple is a immutable data type in python\r\n",
    "\r\n",
    "1. a =() # empty tuple\r\n",
    "\r\n",
    "2. a =(1,) # tuple with only one element needs a comma.\r\n",
    "\r\n",
    "3. a=(1,34,53) # a tuple with more than one element.\r\n",
    "\r\n",
    "Once defined a tuple element can't be change/altered or manipulated."
   ]
  },
  {
   "cell_type": "code",
   "execution_count": 36,
   "metadata": {},
   "outputs": [
    {
     "name": "stdout",
     "output_type": "stream",
     "text": [
      "(1, 3, 5, 6, 6, 7, 8)\n",
      "1\n",
      "(2,)\n"
     ]
    }
   ],
   "source": [
    "# creating a tuple using ()\r\n",
    "\r\n",
    "t=(1,3,5,6,6,7,8)\r\n",
    "\r\n",
    "print(t)  \r\n",
    "\r\n",
    "# t([0])=34 #u can not assign item in tuple its fixed when you defined an  tuple.\r\n",
    "# print(t)\r\n",
    "\r\n",
    "t1=(1) # wrong way to declare a tuple. \r\n",
    "print(t1)\r\n",
    "\r\n",
    "t2=(2,) # tuple with single element needs  comma. \r\n",
    "print(t2)\r\n"
   ]
  },
  {
   "cell_type": "markdown",
   "metadata": {},
   "source": [
    "# Tuple Methods :"
   ]
  },
  {
   "cell_type": "markdown",
   "metadata": {},
   "source": [
    "# Consider the following tuple :\r\n",
    "  \r\n",
    "  1. a.count(1) : a.count(1)  return the number of times 1 occur in a . \r\n",
    "  2. a.index(1) : a.index(1) return the index of first occurrence of 1 in a."
   ]
  },
  {
   "cell_type": "code",
   "execution_count": 9,
   "metadata": {},
   "outputs": [
    {
     "name": "stdout",
     "output_type": "stream",
     "text": [
      "12\n",
      "1\n"
     ]
    }
   ],
   "source": [
    "a =(1,7,2,1,1,1,1,1,1,1,1,1,1,1,)\r\n",
    "\r\n",
    "print(a.count(1))\r\n",
    "print(a.index(7))"
   ]
  },
  {
   "cell_type": "markdown",
   "metadata": {},
   "source": [
    "#   PRACTICE SET\r\n"
   ]
  },
  {
   "cell_type": "markdown",
   "metadata": {},
   "source": [
    "# 01. write a program to store fruits in a list entered by the user."
   ]
  },
  {
   "cell_type": "code",
   "execution_count": 17,
   "metadata": {},
   "outputs": [
    {
     "name": "stdout",
     "output_type": "stream",
     "text": [
      "['apple', 'banana', 'orange', 'pineapple', 'strawberry', 'mango', 'coconut']\n"
     ]
    }
   ],
   "source": [
    "# seven fruits\r\n",
    "\r\n",
    "# list=[\"apple \", \"banana\",\"orange\", \"pineapple\" , \" strawberry\" ,  \" mango\", \"coconut\"]\r\n",
    "\r\n",
    "list1=input(\"enter the fruit number 1 \")\r\n",
    "\r\n",
    "list2=input(\"enter the fruit number 2\")\r\n",
    "\r\n",
    "list3=input(\"enter the fruit number 3 \")\r\n",
    "\r\n",
    "list4=input(\"enter the fruit number 4 \")\r\n",
    "\r\n",
    "list5=input(\"enter the fruit number 5 \")\r\n",
    "\r\n",
    "list6=input(\"enter the fruit number 6 \")\r\n",
    "\r\n",
    "list7=input(\"enter the fruit number 7 \")\r\n",
    "\r\n",
    "print([list1, list2, list3, list4, list5,list6,list7])\r\n",
    "\r\n",
    "\r\n",
    "\r\n",
    "\r\n",
    "\r\n"
   ]
  },
  {
   "cell_type": "markdown",
   "metadata": {},
   "source": [
    "# 02. write a program to accept markd of 6 students and display in  a sorted manner.\r\n"
   ]
  },
  {
   "cell_type": "code",
   "execution_count": 24,
   "metadata": {},
   "outputs": [
    {
     "name": "stdout",
     "output_type": "stream",
     "text": [
      "[54, 43, 46, 75, 54, 75]\n",
      "[43, 46, 54, 54, 75, 75]\n"
     ]
    }
   ],
   "source": [
    " \r\n",
    "\r\n",
    "students_marks_1 =int (input(\"enter the marks student 1 \"))\r\n",
    "students_marks_2 =int (input(\"enter the marks student 2  \"))\r\n",
    "students_marks_3= int(input(\"enter the marks student 3 \"))\r\n",
    "students_marks_4= int(input(\"enter the marks student 4 \")) \r\n",
    "\r\n",
    "students_marks_5 = int(input(\"enter the marks student 5 \"))\r\n",
    "\r\n",
    "students_marks_6 = int(input(\"enter the marks student 6 \"))\r\n",
    "\r\n",
    "all_student_marks=[students_marks_1,students_marks_2,students_marks_3,students_marks_4,students_marks_5,students_marks_6]\r\n",
    "\r\n",
    "print(all_student_marks)\r\n",
    "all_student_marks.sort()\r\n",
    "\r\n",
    "print(all_student_marks)\r\n",
    "\r\n"
   ]
  },
  {
   "cell_type": "markdown",
   "metadata": {},
   "source": [
    "#  04. check that tuple cannot be changed in python."
   ]
  },
  {
   "cell_type": "code",
   "execution_count": 25,
   "metadata": {},
   "outputs": [
    {
     "ename": "SyntaxError",
     "evalue": "cannot assign to function call (<ipython-input-25-cb54dd43a982>, line 6)",
     "output_type": "error",
     "traceback": [
      "\u001b[1;36m  File \u001b[1;32m\"<ipython-input-25-cb54dd43a982>\"\u001b[1;36m, line \u001b[1;32m6\u001b[0m\n\u001b[1;33m    tup([0])=34444\u001b[0m\n\u001b[1;37m    ^\u001b[0m\n\u001b[1;31mSyntaxError\u001b[0m\u001b[1;31m:\u001b[0m cannot assign to function call\n"
     ]
    }
   ],
   "source": [
    "# tuple check\r\n",
    "\r\n",
    "tup=(343,32,3432,3534,234,534)\r\n",
    "\r\n",
    "print(tup)\r\n",
    "tup([0])=34444\r\n",
    "print(tup)"
   ]
  },
  {
   "cell_type": "markdown",
   "metadata": {},
   "source": [
    "# 05. write a program to sum a list with number 4  ."
   ]
  },
  {
   "cell_type": "code",
   "execution_count": 29,
   "metadata": {},
   "outputs": [
    {
     "name": "stdout",
     "output_type": "stream",
     "text": [
      "3849\n",
      "3849\n"
     ]
    }
   ],
   "source": [
    "a=[23,24,25,343,3434]\r\n",
    "\r\n",
    "print(a[0]+a[1]+a[2]+a[4]+a[3])\r\n",
    "print(sum(a))"
   ]
  },
  {
   "cell_type": "markdown",
   "metadata": {},
   "source": [
    "# 05. write a program  to count the number of zeros in the folllowing tuple .\r\n"
   ]
  },
  {
   "cell_type": "code",
   "execution_count": 31,
   "metadata": {},
   "outputs": [
    {
     "name": "stdout",
     "output_type": "stream",
     "text": [
      "3\n",
      "(7, 0, 0, 8, 0, 9)\n"
     ]
    }
   ],
   "source": [
    "a=(7,0,0,8,0,9)\r\n",
    "\r\n",
    "print(a.count(0))\r\n",
    "print(a)"
   ]
  },
  {
   "cell_type": "markdown",
   "metadata": {},
   "source": [
    "# LIST AND TUPLE FOR BEGINER IS ENDS"
   ]
  }
 ],
 "metadata": {
  "interpreter": {
   "hash": "d21333ff62c43b8d3f22f2fffa3b7389f580599dfc1ab4fc74fc1532be50abca"
  },
  "kernelspec": {
   "display_name": "Python 3.9.5 64-bit",
   "name": "python3"
  },
  "language_info": {
   "codemirror_mode": {
    "name": "ipython",
    "version": 3
   },
   "file_extension": ".py",
   "mimetype": "text/x-python",
   "name": "python",
   "nbconvert_exporter": "python",
   "pygments_lexer": "ipython3",
   "version": "3.9.5"
  },
  "orig_nbformat": 4
 },
 "nbformat": 4,
 "nbformat_minor": 2
}