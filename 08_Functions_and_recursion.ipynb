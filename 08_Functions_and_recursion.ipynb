{
 "cells": [
  {
   "cell_type": "markdown",
   "metadata": {},
   "source": [
    "# funtions and recursion"
   ]
  },
  {
   "cell_type": "code",
   "execution_count": 2,
   "metadata": {},
   "outputs": [
    {
     "name": "stdout",
     "output_type": "stream",
     "text": [
      "hello jay is good boy\n",
      "None\n",
      "7\n"
     ]
    }
   ],
   "source": [
    "def greet(name, message):\r\n",
    "    print(\"hello \" + name + message)\r\n",
    "\r\n",
    "s= greet(\"jay \", \"is good boy\")\r\n",
    "print(s)\r\n",
    "\r\n",
    "def mysum(n1, n2):\r\n",
    "    return n1 + n2\r\n",
    "\r\n",
    "mysum=mysum(3,4)\r\n",
    "print(mysum)"
   ]
  }
 ],
 "metadata": {
  "interpreter": {
   "hash": "d21333ff62c43b8d3f22f2fffa3b7389f580599dfc1ab4fc74fc1532be50abca"
  },
  "kernelspec": {
   "display_name": "Python 3.9.5 64-bit",
   "name": "python3"
  },
  "language_info": {
   "codemirror_mode": {
    "name": "ipython",
    "version": 3
   },
   "file_extension": ".py",
   "mimetype": "text/x-python",
   "name": "python",
   "nbconvert_exporter": "python",
   "pygments_lexer": "ipython3",
   "version": "3.9.5"
  },
  "orig_nbformat": 4
 },
 "nbformat": 4,
 "nbformat_minor": 2
}