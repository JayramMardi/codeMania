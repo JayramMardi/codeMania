{
 "cells": [
  {
   "cell_type": "markdown",
   "metadata": {},
   "source": [
    "# what is LOOPS ?\r\n",
    " 1.  loop   are repeated  lines of code execution until the statement coming false.\r\n",
    " 2.  loops has several types.\r\n"
   ]
  },
  {
   "cell_type": "markdown",
   "metadata": {},
   "source": [
    "# Types of loops in python ."
   ]
  },
  {
   "cell_type": "code",
   "execution_count": 7,
   "metadata": {},
   "outputs": [
    {
     "name": "stdout",
     "output_type": "stream",
     "text": [
      "harry 0\n",
      "harry 1\n",
      "harry 2\n",
      "harry 3\n",
      "harry 4\n"
     ]
    }
   ],
   "source": [
    "i=0\r\n",
    "\r\n",
    "while i<5:\r\n",
    "    print(\"harry \" + str(i))\r\n",
    "    i=i+1"
   ]
  },
  {
   "cell_type": "code",
   "execution_count": 2,
   "metadata": {},
   "outputs": [
    {
     "name": "stdout",
     "output_type": "stream",
     "text": [
      "0\n",
      "1\n",
      "2\n",
      "3\n",
      "4\n",
      "5\n"
     ]
    }
   ],
   "source": [
    "i=0\r\n",
    "\r\n",
    "while i<=5:  \r\n",
    "    print(i)\r\n",
    "    i=i+1"
   ]
  },
  {
   "cell_type": "code",
   "execution_count": 3,
   "metadata": {},
   "outputs": [
    {
     "name": "stdout",
     "output_type": "stream",
     "text": [
      "1\n",
      "2\n",
      "5\n"
     ]
    }
   ],
   "source": [
    "i=[1,2,5]\r\n",
    "\r\n",
    "for item in i:\r\n",
    "    print(item)"
   ]
  },
  {
   "cell_type": "code",
   "execution_count": 7,
   "metadata": {},
   "outputs": [
    {
     "name": "stdout",
     "output_type": "stream",
     "text": [
      "0\n",
      "2\n",
      "4\n",
      "6\n"
     ]
    }
   ],
   "source": [
    "for i in range(0,8,2):   # start ,stop , step size\r\n",
    "    print(i)"
   ]
  },
  {
   "cell_type": "code",
   "execution_count": 8,
   "metadata": {},
   "outputs": [
    {
     "name": "stdout",
     "output_type": "stream",
     "text": [
      "0\n",
      "1\n",
      "2\n",
      "3\n",
      "4\n",
      "5\n",
      "6\n",
      "7\n",
      "8\n",
      "9\n",
      "done\n"
     ]
    }
   ],
   "source": [
    "# for with else\r\n",
    "\r\n",
    "for i in range(10):   \r\n",
    "    print(i)\r\n",
    "\r\n",
    "else:  # note that else is optional.\r\n",
    "    print(\"done\")\r\n",
    "\r\n",
    "# loop exhaust at 10 so else is printing. # "
   ]
  },
  {
   "cell_type": "code",
   "execution_count": 9,
   "metadata": {},
   "outputs": [
    {
     "name": "stdout",
     "output_type": "stream",
     "text": [
      "0\n",
      "1\n",
      "2\n",
      "3\n",
      "4\n",
      "5\n"
     ]
    }
   ],
   "source": [
    "# break statements\r\n",
    "\r\n",
    "for i in range(10):   \r\n",
    "    print(i)\r\n",
    "    if i ==5:  \r\n",
    "        break\r\n",
    "\r\n",
    "else:  \r\n",
    "    print(\"done\")\r\n"
   ]
  },
  {
   "cell_type": "code",
   "execution_count": 13,
   "metadata": {},
   "outputs": [
    {
     "name": "stdout",
     "output_type": "stream",
     "text": [
      "0\n",
      "1\n",
      "2\n",
      "3\n",
      "4\n",
      "6\n",
      "7\n",
      "8\n",
      "9\n"
     ]
    }
   ],
   "source": [
    "# continue statement \r\n",
    "\r\n",
    "for i in range(10):  \r\n",
    "    if i == 5:  \r\n",
    "        continue\r\n",
    "    print(i)"
   ]
  },
  {
   "cell_type": "markdown",
   "metadata": {},
   "source": [
    "# PRACTISE SET\r\n"
   ]
  },
  {
   "cell_type": "code",
   "execution_count": 2,
   "metadata": {},
   "outputs": [
    {
     "name": "stdout",
     "output_type": "stream",
     "text": [
      "2X1 = 2\n",
      "2X2 = 4\n",
      "2X3 = 6\n",
      "2X4 = 8\n",
      "2X5 = 10\n",
      "2X6 = 12\n",
      "2X7 = 14\n",
      "2X8 = 16\n",
      "2X9 = 18\n",
      "2X10 = 20\n"
     ]
    }
   ],
   "source": [
    "# practise set\r\n",
    "num= int(input(\"enter the given number: \"))\r\n",
    "\r\n",
    "for i in range(1,11):  \r\n",
    "    print(str(num) + str(\"X\") +str(i)+str(\" = \") + str(num*i))\r\n",
    "    \r\n",
    "    "
   ]
  },
  {
   "cell_type": "code",
   "execution_count": 9,
   "metadata": {},
   "outputs": [
    {
     "name": "stdout",
     "output_type": "stream",
     "text": [
      "helloo sohan\n",
      "helloo sachin\n"
     ]
    }
   ],
   "source": [
    "# PR 2\r\n",
    "\r\n",
    "list=[\"harry\",\"sohan\",\"sachin\",\"rohan\"]\r\n",
    "\r\n",
    "for name in list:  \r\n",
    "    if name.startswith(\"s\"): \r\n",
    "        print(\"helloo \" + name)"
   ]
  },
  {
   "cell_type": "code",
   "execution_count": 1,
   "metadata": {},
   "outputs": [
    {
     "name": "stdout",
     "output_type": "stream",
     "text": [
      "2X1 = 2\n",
      "2X2 = 4\n",
      "2X3 = 6\n",
      "2X4 = 8\n",
      "2X5 = 10\n",
      "2X6 = 12\n",
      "2X7 = 14\n",
      "2X8 = 16\n",
      "2X9 = 18\n",
      "2X10 = 20\n"
     ]
    }
   ],
   "source": [
    "# pr 3  related q1 through while loop \r\n",
    "\r\n",
    "num= int(input(\"enter the given number \"))\r\n",
    "\r\n",
    "i=1\r\n",
    "while i<11:  \r\n",
    "    print(str(num)+str(\"X\")+str(i)+str(\" = \")+ str(num*i))\r\n",
    "    i=i+1"
   ]
  },
  {
   "cell_type": "code",
   "execution_count": 7,
   "metadata": {},
   "outputs": [
    {
     "name": "stdout",
     "output_type": "stream",
     "text": [
      "the factorial of 0 is 1\n"
     ]
    }
   ],
   "source": [
    "# factorail pr \r\n",
    "\r\n",
    "num=int(input(\"enter the number:  \"))\r\n",
    "\r\n",
    "factorail=1\r\n",
    "\r\n",
    "for i in range(1,num+1):   \r\n",
    "    factorail=factorail * i\r\n",
    "\r\n",
    "print(f\"the factorial of {num} is {factorail}\")"
   ]
  },
  {
   "cell_type": "code",
   "execution_count": 16,
   "metadata": {},
   "outputs": [
    {
     "name": "stdout",
     "output_type": "stream",
     "text": [
      "\n",
      "*\n",
      "**\n",
      "***\n"
     ]
    }
   ],
   "source": [
    "# print star using for looo\r\n",
    "i=4\r\n",
    "for i in range(4):   \r\n",
    "    print(\"*\" * i)\r\n"
   ]
  }
 ],
 "metadata": {
  "interpreter": {
   "hash": "d21333ff62c43b8d3f22f2fffa3b7389f580599dfc1ab4fc74fc1532be50abca"
  },
  "kernelspec": {
   "display_name": "Python 3.9.5 64-bit",
   "name": "python3"
  },
  "language_info": {
   "codemirror_mode": {
    "name": "ipython",
    "version": 3
   },
   "file_extension": ".py",
   "mimetype": "text/x-python",
   "name": "python",
   "nbconvert_exporter": "python",
   "pygments_lexer": "ipython3",
   "version": "3.9.5"
  },
  "orig_nbformat": 4
 },
 "nbformat": 4,
 "nbformat_minor": 2
}